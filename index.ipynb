{
 "cells": [
  {
   "cell_type": "code",
   "execution_count": 1,
   "metadata": {},
   "outputs": [],
   "source": [
    "import pandas as pd\n",
    "import numpy as np\n",
    "import matplotlib.pyplot as plt"
   ]
  },
  {
   "cell_type": "code",
   "execution_count": 4,
   "metadata": {},
   "outputs": [],
   "source": [
    "\n",
    "energy_df = pd.read_csv('energy_dataset.csv')\n",
    "weather_df = pd.read_csv('weather_features.csv')"
   ]
  },
  {
   "cell_type": "code",
   "execution_count": 5,
   "metadata": {},
   "outputs": [],
   "source": [
    "energy_df.fillna(0, inplace=True)\n",
    "weather_df.fillna(0, inplace=True)\n",
    "\n",
    "# Convert the 'time' columns to datetime and set as index\n",
    "energy_df['time'] = pd.to_datetime(energy_df['time'], utc=True, errors='coerce')\n",
    "weather_df['dt_iso'] = pd.to_datetime(weather_df['dt_iso'], utc=True, errors='coerce')"
   ]
  },
  {
   "cell_type": "code",
   "execution_count": 6,
   "metadata": {},
   "outputs": [
    {
     "name": "stdout",
     "output_type": "stream",
     "text": [
      "Index(['generation biomass', 'generation fossil brown coal/lignite',\n",
      "       'generation fossil coal-derived gas', 'generation fossil gas',\n",
      "       'generation fossil hard coal', 'generation fossil oil',\n",
      "       'generation fossil oil shale', 'generation fossil peat',\n",
      "       'generation geothermal', 'generation hydro pumped storage aggregated',\n",
      "       'generation hydro pumped storage consumption',\n",
      "       'generation hydro run-of-river and poundage',\n",
      "       'generation hydro water reservoir', 'generation marine',\n",
      "       'generation nuclear', 'generation other', 'generation other renewable',\n",
      "       'generation solar', 'generation waste', 'generation wind offshore',\n",
      "       'generation wind onshore', 'forecast solar day ahead',\n",
      "       'forecast wind offshore eday ahead', 'forecast wind onshore day ahead',\n",
      "       'total load forecast', 'total load actual', 'price day ahead',\n",
      "       'price actual', 'dt_iso', 'city_name', 'temp', 'temp_min', 'temp_max',\n",
      "       'pressure', 'humidity', 'wind_speed', 'wind_deg', 'rain_1h', 'rain_3h',\n",
      "       'snow_3h', 'clouds_all', 'weather_id', 'weather_main',\n",
      "       'weather_description', 'weather_icon'],\n",
      "      dtype='object')\n"
     ]
    }
   ],
   "source": [
    "data = pd.merge(energy_df, weather_df, left_on='time', right_on='dt_iso')\n",
    "data.set_index('time', inplace=True)\n",
    "data.head()\n",
    "data.index = pd.to_datetime(data.index)\n",
    "# Check if 'city_name' and 'price actual' are available\n",
    "print(data.columns)\n",
    "data.fillna(0, inplace=True)\n",
    "data.sort_index(inplace=True)"
   ]
  },
  {
   "cell_type": "code",
   "execution_count": null,
   "metadata": {},
   "outputs": [],
   "source": []
  },
  {
   "cell_type": "code",
   "execution_count": null,
   "metadata": {},
   "outputs": [],
   "source": []
  }
 ],
 "metadata": {
  "kernelspec": {
   "display_name": "Python 3 (ipykernel)",
   "language": "python",
   "name": "python3"
  },
  "language_info": {
   "codemirror_mode": {
    "name": "ipython",
    "version": 3
   },
   "file_extension": ".py",
   "mimetype": "text/x-python",
   "name": "python",
   "nbconvert_exporter": "python",
   "pygments_lexer": "ipython3",
   "version": "3.11.3"
  }
 },
 "nbformat": 4,
 "nbformat_minor": 2
}
