{
 "cells": [
  {
   "cell_type": "code",
   "execution_count": 67,
   "metadata": {},
   "outputs": [],
   "source": [
    "import tensorflow as tf\n",
    "import tensorflow_probability as tfp\n",
    "import matplotlib.pyplot as plt\n",
    "import pandas as pd\n",
    "from sklearn.model_selection import train_test_split\n",
    "from tensorflow import keras\n",
    "from sklearn.preprocessing import StandardScaler\n",
    "from tensorflow.keras.optimizers import Adam\n",
    "from tensorflow.keras.callbacks import LearningRateScheduler\n",
    "\n",
    "# Read the datasets\n",
    "energy_df = pd.read_csv('energy_dataset.csv')\n"
   ]
  },
  {
   "cell_type": "code",
   "execution_count": 68,
   "metadata": {},
   "outputs": [],
   "source": [
    "def check_all_zero(df):\n",
    "    all_zero_column=[]\n",
    "    for column in energy_df:\n",
    "        all_zeros_or_null = (energy_df[column] == 0) | pd.isnull(energy_df[column])\n",
    "        if all_zeros_or_null.all()==True:\n",
    "            all_zero_column.append(column)\n",
    "    return all_zero_column\n",
    "\n",
    "all_cero_column = check_all_zero(energy_df)\n",
    "\n",
    "\n"
   ]
  },
  {
   "cell_type": "code",
   "execution_count": 69,
   "metadata": {},
   "outputs": [],
   "source": [
    "def drop_column(df, columns):\n",
    "    return df.drop(columns, axis=1)\n",
    "\n",
    "energy_df =drop_column(energy_df,all_cero_column)\n"
   ]
  },
  {
   "cell_type": "code",
   "execution_count": 70,
   "metadata": {},
   "outputs": [],
   "source": [
    "# Preprocess the data\n",
    "def pre_process_totalload(df):\n",
    "    df[\"time\"] = pd.to_datetime(df[\"time\"], utc=True)\n",
    "    df.set_index('time', inplace=True)\n",
    "    total_load_df = df[[\"total load actual\"]]\n",
    "    total_load_df[\"month\"] = total_load_df.index.month\n",
    "    total_load_df[\"weekday\"] = total_load_df.index.weekday\n",
    "    total_load_df[\"hour\"] = total_load_df.index.hour\n",
    "    total_load_df = pd.get_dummies(total_load_df, columns=['hour'], dtype=int)\n",
    "    return total_load_df"
   ]
  },
  {
   "cell_type": "code",
   "execution_count": 71,
   "metadata": {},
   "outputs": [
    {
     "name": "stderr",
     "output_type": "stream",
     "text": [
      "/var/folders/2_/60s36pk17lq0ltwcttxd9p7m0000gn/T/ipykernel_96696/3338687135.py:6: SettingWithCopyWarning: \n",
      "A value is trying to be set on a copy of a slice from a DataFrame.\n",
      "Try using .loc[row_indexer,col_indexer] = value instead\n",
      "\n",
      "See the caveats in the documentation: https://pandas.pydata.org/pandas-docs/stable/user_guide/indexing.html#returning-a-view-versus-a-copy\n",
      "  total_load_df[\"month\"] = total_load_df.index.month\n",
      "/var/folders/2_/60s36pk17lq0ltwcttxd9p7m0000gn/T/ipykernel_96696/3338687135.py:7: SettingWithCopyWarning: \n",
      "A value is trying to be set on a copy of a slice from a DataFrame.\n",
      "Try using .loc[row_indexer,col_indexer] = value instead\n",
      "\n",
      "See the caveats in the documentation: https://pandas.pydata.org/pandas-docs/stable/user_guide/indexing.html#returning-a-view-versus-a-copy\n",
      "  total_load_df[\"weekday\"] = total_load_df.index.weekday\n",
      "/var/folders/2_/60s36pk17lq0ltwcttxd9p7m0000gn/T/ipykernel_96696/3338687135.py:8: SettingWithCopyWarning: \n",
      "A value is trying to be set on a copy of a slice from a DataFrame.\n",
      "Try using .loc[row_indexer,col_indexer] = value instead\n",
      "\n",
      "See the caveats in the documentation: https://pandas.pydata.org/pandas-docs/stable/user_guide/indexing.html#returning-a-view-versus-a-copy\n",
      "  total_load_df[\"hour\"] = total_load_df.index.hour\n"
     ]
    }
   ],
   "source": [
    "total_load_df = pre_process_totalload(energy_df)\n",
    "total_load_df = total_load_df.dropna()\n",
    "y_df = total_load_df[\"total load actual\"].astype('float64')\n",
    "X_df = total_load_df.drop(\"total load actual\", axis=1)"
   ]
  },
  {
   "cell_type": "code",
   "execution_count": 72,
   "metadata": {},
   "outputs": [],
   "source": [
    "\n",
    "def pre_process(df):\n",
    "    all_cero_column=check_all_zero(df)\n",
    "    df= drop_column(df,all_cero_column)\n",
    "    total_load_df=pre_process_totalload(df)\n",
    "    print(total_load_df.isnull().values.any())\n",
    "    return total_load_df\n"
   ]
  },
  {
   "cell_type": "code",
   "execution_count": 73,
   "metadata": {},
   "outputs": [],
   "source": [
    "# Normalize the features\n",
    "scaler = StandardScaler()\n",
    "X_df_scaled = scaler.fit_transform(X_df)"
   ]
  },
  {
   "cell_type": "code",
   "execution_count": 74,
   "metadata": {},
   "outputs": [],
   "source": [
    "# Split the data into training and testing sets\n",
    "X_train, X_test, y_train, y_test = train_test_split(X_df_scaled, y_df, test_size=0.33, random_state=42)\n"
   ]
  },
  {
   "cell_type": "code",
   "execution_count": 75,
   "metadata": {},
   "outputs": [],
   "source": [
    "from tensorflow.keras.layers import Dense, Dropout\n",
    "from tensorflow.keras.regularizers import l1, l2\n",
    "\n",
    "def build_nn_model(input_shape, hidden):\n",
    "    model_in = tf.keras.Input(shape=input_shape, dtype='float32')\n",
    "    x = model_in\n",
    "    for h in hidden:\n",
    "        x = keras.layers.Dense(h, activation='relu')(x)\n",
    "    mu = keras.layers.Dense(1)(x)  # Mean of the distribution\n",
    "    sigma = keras.layers.Dense(1, activation=tf.nn.softplus)(x)  # Standard deviation (positive)\n",
    "    dist = tfp.layers.DistributionLambda(lambda t: tfp.distributions.Normal(loc=t[0], scale=t[1]))([mu, sigma])\n",
    "    model = tf.keras.Model(model_in, dist)\n",
    "    return model\n",
    "\n",
    "# Then use this function to build your model\n",
    "model = build_nn_model(X_train.shape[1], [128, 64])\n"
   ]
  },
  {
   "cell_type": "code",
   "execution_count": 76,
   "metadata": {},
   "outputs": [
    {
     "name": "stdout",
     "output_type": "stream",
     "text": [
      "2.12.0\n",
      "0.14.0\n"
     ]
    }
   ],
   "source": [
    "import tensorflow as tf\n",
    "import tensorflow_probability as tfp\n",
    "print(tf.__version__)\n",
    "print(tfp.__version__)\n"
   ]
  },
  {
   "cell_type": "code",
   "execution_count": 77,
   "metadata": {},
   "outputs": [],
   "source": [
    "# Define the model architecture\n",
    "hidden_layers = [128, 64]\n",
    "model = build_nn_model(X_train.shape[1], hidden_layers)"
   ]
  },
  {
   "cell_type": "code",
   "execution_count": 78,
   "metadata": {},
   "outputs": [],
   "source": [
    "# Custom Loss Function and Learning Rate Scheduler\n",
    "def custom_loss_function(y_true, dist):\n",
    "    return -dist.log_prob(y_true)\n",
    "\n",
    "def scheduler(epoch, lr):\n",
    "    if epoch < 10:\n",
    "        return lr\n",
    "    else:\n",
    "        return lr * tf.math.exp(-0.1)"
   ]
  },
  {
   "cell_type": "code",
   "execution_count": 79,
   "metadata": {},
   "outputs": [],
   "source": [
    "from sklearn.model_selection import train_test_split\n",
    "import pandas as pd\n",
    "total_load_df = total_load_df.dropna()\n",
    "y_df=total_load_df[\"total load actual\"].astype('float64')\n",
    "X_df=total_load_df.drop(\"total load actual\", axis=1)\n",
    "\n",
    "sep = '2018-01-01'\n",
    "#normalize weekday and month\n",
    "X_df['weekday'] = X_df['weekday'] / 6\n",
    "X_df[\"month\"] = X_df[\"month\"]/12\n",
    "#X_train, X_test, y_train, y_test = train_test_split(X, y, test_size=0.33, random_state=42)\n",
    "input_shape=len(X_df.columns)"
   ]
  },
  {
   "cell_type": "code",
   "execution_count": 80,
   "metadata": {},
   "outputs": [
    {
     "name": "stderr",
     "output_type": "stream",
     "text": [
      "WARNING:absl:At this time, the v2.11+ optimizer `tf.keras.optimizers.Adam` runs slowly on M1/M2 Macs, please use the legacy Keras optimizer instead, located at `tf.keras.optimizers.legacy.Adam`.\n",
      "WARNING:absl:There is a known slowdown when using v2.11+ Keras optimizers on M1/M2 Macs. Falling back to the legacy Keras optimizer, i.e., `tf.keras.optimizers.legacy.Adam`.\n"
     ]
    },
    {
     "name": "stdout",
     "output_type": "stream",
     "text": [
      "Epoch 1/100\n"
     ]
    },
    {
     "name": "stderr",
     "output_type": "stream",
     "text": [
      "/Users/karansingh/anaconda3/envs/tf_prob_env/lib/python3.8/site-packages/tensorflow/python/data/ops/structured_function.py:254: UserWarning: Even though the `tf.config.experimental_run_functions_eagerly` option is set, this option does not apply to tf.data functions. To force eager execution of tf.data functions, please use `tf.data.experimental.enable_debug_mode()`.\n",
      "  warnings.warn(\n"
     ]
    },
    {
     "name": "stdout",
     "output_type": "stream",
     "text": [
      "734/734 [==============================] - 5s 7ms/step - loss: 17289428.0000\n",
      "Epoch 2/100\n",
      "734/734 [==============================] - 5s 6ms/step - loss: 956041.1250\n",
      "Epoch 3/100\n",
      "734/734 [==============================] - 5s 6ms/step - loss: 437255.5000\n",
      "Epoch 4/100\n",
      "734/734 [==============================] - 5s 6ms/step - loss: 254246.3125\n",
      "Epoch 5/100\n",
      "734/734 [==============================] - 5s 7ms/step - loss: 163932.4219\n",
      "Epoch 6/100\n",
      "734/734 [==============================] - 5s 6ms/step - loss: 111692.0625\n",
      "Epoch 7/100\n",
      "734/734 [==============================] - 5s 6ms/step - loss: 78634.8516\n",
      "Epoch 8/100\n",
      "734/734 [==============================] - 5s 6ms/step - loss: 56500.9023\n",
      "Epoch 9/100\n",
      "734/734 [==============================] - 5s 6ms/step - loss: 41132.2656\n",
      "Epoch 10/100\n",
      "734/734 [==============================] - 5s 6ms/step - loss: 30203.1602\n",
      "Epoch 11/100\n",
      "734/734 [==============================] - 5s 7ms/step - loss: 22302.4121\n",
      "Epoch 12/100\n",
      "734/734 [==============================] - 5s 7ms/step - loss: 16528.1504\n",
      "Epoch 13/100\n",
      "734/734 [==============================] - 5s 6ms/step - loss: 12278.1621\n",
      "Epoch 14/100\n",
      "734/734 [==============================] - 5s 6ms/step - loss: 9133.3584\n",
      "Epoch 15/100\n",
      "734/734 [==============================] - 5s 6ms/step - loss: 6798.9751\n",
      "Epoch 16/100\n",
      "734/734 [==============================] - 6s 9ms/step - loss: 5061.4155\n",
      "Epoch 17/100\n",
      "734/734 [==============================] - 5s 7ms/step - loss: 3766.3706\n",
      "Epoch 18/100\n",
      "734/734 [==============================] - 5s 6ms/step - loss: 2800.9858\n",
      "Epoch 19/100\n",
      "734/734 [==============================] - 5s 6ms/step - loss: 2080.7302\n",
      "Epoch 20/100\n",
      "734/734 [==============================] - 4s 6ms/step - loss: 1543.5681\n",
      "Epoch 21/100\n",
      "734/734 [==============================] - 5s 6ms/step - loss: 1143.1730\n",
      "Epoch 22/100\n",
      "734/734 [==============================] - 4s 6ms/step - loss: 844.8340\n",
      "Epoch 23/100\n",
      "734/734 [==============================] - 41s 57ms/step - loss: 622.9697\n",
      "Epoch 24/100\n",
      "734/734 [==============================] - 5s 6ms/step - loss: 458.2142\n",
      "Epoch 25/100\n",
      "734/734 [==============================] - 4s 6ms/step - loss: 336.0268\n",
      "Epoch 26/100\n",
      "734/734 [==============================] - 4s 6ms/step - loss: 245.6594\n",
      "Epoch 27/100\n",
      "734/734 [==============================] - 4s 6ms/step - loss: 179.0300\n",
      "Epoch 28/100\n",
      "734/734 [==============================] - 4s 6ms/step - loss: 130.0856\n",
      "Epoch 29/100\n",
      "734/734 [==============================] - 4s 6ms/step - loss: 94.2966\n",
      "Epoch 30/100\n",
      "734/734 [==============================] - 4s 6ms/step - loss: 68.2735\n",
      "Epoch 31/100\n",
      "734/734 [==============================] - 4s 6ms/step - loss: 49.5020\n",
      "Epoch 32/100\n",
      "734/734 [==============================] - 86s 117ms/step - loss: 36.1065\n",
      "Epoch 33/100\n",
      "734/734 [==============================] - 4s 6ms/step - loss: 26.6675\n",
      "Epoch 34/100\n",
      "734/734 [==============================] - 4s 6ms/step - loss: 20.1434\n",
      "Epoch 35/100\n",
      "734/734 [==============================] - 4s 6ms/step - loss: 15.7548\n",
      "Epoch 36/100\n",
      "734/734 [==============================] - 4s 6ms/step - loss: 12.9183\n",
      "Epoch 37/100\n",
      "734/734 [==============================] - 4s 6ms/step - loss: 11.1921\n",
      "Epoch 38/100\n",
      "734/734 [==============================] - 4s 6ms/step - loss: 10.2306\n",
      "Epoch 39/100\n",
      "734/734 [==============================] - 4s 6ms/step - loss: 9.7580\n",
      "Epoch 40/100\n",
      "734/734 [==============================] - 4s 6ms/step - loss: 9.5583\n",
      "Epoch 41/100\n",
      "734/734 [==============================] - 4s 6ms/step - loss: 9.4805\n",
      "Epoch 42/100\n",
      "734/734 [==============================] - 4s 6ms/step - loss: 9.4472\n",
      "Epoch 43/100\n",
      "734/734 [==============================] - 308s 420ms/step - loss: 9.4305\n",
      "Epoch 44/100\n",
      "734/734 [==============================] - 4s 6ms/step - loss: 9.4206\n",
      "Epoch 45/100\n",
      "734/734 [==============================] - 4s 6ms/step - loss: 9.4132\n",
      "Epoch 46/100\n",
      "734/734 [==============================] - 4s 6ms/step - loss: 9.4059\n",
      "Epoch 47/100\n",
      "734/734 [==============================] - 4s 6ms/step - loss: 9.3984\n",
      "Epoch 48/100\n",
      "734/734 [==============================] - 4s 6ms/step - loss: 9.3913\n",
      "Epoch 49/100\n",
      "734/734 [==============================] - 4s 6ms/step - loss: 9.3852\n",
      "Epoch 50/100\n",
      "734/734 [==============================] - 4s 6ms/step - loss: 9.3814\n",
      "Epoch 51/100\n",
      "734/734 [==============================] - 4s 6ms/step - loss: 9.3791\n",
      "Epoch 52/100\n",
      "734/734 [==============================] - 46s 62ms/step - loss: 9.3775\n",
      "Epoch 53/100\n",
      "734/734 [==============================] - 4s 6ms/step - loss: 9.3767\n",
      "Epoch 54/100\n",
      "734/734 [==============================] - 4s 6ms/step - loss: 9.3756\n",
      "Epoch 55/100\n",
      "734/734 [==============================] - 4s 6ms/step - loss: 9.3752\n",
      "Epoch 56/100\n",
      "734/734 [==============================] - 4s 6ms/step - loss: 9.3743\n",
      "Epoch 57/100\n",
      "734/734 [==============================] - 4s 6ms/step - loss: 9.3722\n",
      "Epoch 58/100\n",
      "734/734 [==============================] - 4s 6ms/step - loss: 9.3720\n",
      "Epoch 59/100\n",
      "734/734 [==============================] - 4s 6ms/step - loss: 9.3705\n",
      "Epoch 60/100\n",
      "734/734 [==============================] - 72s 98ms/step - loss: 9.3679\n",
      "Epoch 61/100\n",
      "734/734 [==============================] - 4s 6ms/step - loss: 9.3645\n",
      "Epoch 62/100\n",
      "734/734 [==============================] - 4s 6ms/step - loss: 9.3606\n",
      "Epoch 63/100\n",
      "734/734 [==============================] - 4s 6ms/step - loss: 9.3566\n",
      "Epoch 64/100\n",
      "734/734 [==============================] - 4s 6ms/step - loss: 9.3493\n",
      "Epoch 65/100\n",
      "734/734 [==============================] - 4s 6ms/step - loss: 9.3421\n",
      "Epoch 66/100\n",
      "734/734 [==============================] - 4s 6ms/step - loss: 9.3365\n",
      "Epoch 67/100\n",
      "734/734 [==============================] - 4s 6ms/step - loss: 9.3307\n",
      "Epoch 68/100\n",
      "734/734 [==============================] - 4s 6ms/step - loss: 9.3269\n",
      "Epoch 69/100\n",
      "734/734 [==============================] - 60s 82ms/step - loss: 9.3226\n",
      "Epoch 70/100\n",
      "734/734 [==============================] - 4s 6ms/step - loss: 9.3149\n",
      "Epoch 71/100\n",
      "734/734 [==============================] - 4s 6ms/step - loss: 9.3077\n",
      "Epoch 72/100\n",
      "734/734 [==============================] - 4s 6ms/step - loss: 9.3021\n",
      "Epoch 73/100\n",
      "734/734 [==============================] - 4s 6ms/step - loss: 9.2980\n",
      "Epoch 74/100\n",
      "734/734 [==============================] - 4s 6ms/step - loss: 9.2947\n",
      "Epoch 75/100\n",
      "734/734 [==============================] - 4s 6ms/step - loss: 9.2927\n",
      "Epoch 76/100\n",
      "734/734 [==============================] - 4s 6ms/step - loss: 9.2901\n",
      "Epoch 77/100\n",
      "734/734 [==============================] - 924s 1s/step - loss: 9.2879\n",
      "Epoch 78/100\n",
      "734/734 [==============================] - 5s 6ms/step - loss: 9.2872\n",
      "Epoch 79/100\n",
      "734/734 [==============================] - 5s 7ms/step - loss: 9.2852\n",
      "Epoch 80/100\n",
      "734/734 [==============================] - 5s 7ms/step - loss: 9.2856\n",
      "Epoch 81/100\n",
      "734/734 [==============================] - 5s 7ms/step - loss: 9.2847\n",
      "Epoch 82/100\n",
      "734/734 [==============================] - 5s 7ms/step - loss: 9.2820\n",
      "Epoch 83/100\n",
      "734/734 [==============================] - 6s 8ms/step - loss: 9.2830\n",
      "Epoch 84/100\n",
      "734/734 [==============================] - 5s 7ms/step - loss: 9.2816\n",
      "Epoch 85/100\n",
      "734/734 [==============================] - 6s 8ms/step - loss: 9.2809\n",
      "Epoch 86/100\n",
      "734/734 [==============================] - 5s 6ms/step - loss: 9.2807\n",
      "Epoch 87/100\n",
      "734/734 [==============================] - 4s 6ms/step - loss: 9.2806\n",
      "Epoch 88/100\n",
      "734/734 [==============================] - 5s 7ms/step - loss: 9.2792\n",
      "Epoch 89/100\n",
      "734/734 [==============================] - 6s 8ms/step - loss: 9.2793\n",
      "Epoch 90/100\n",
      "734/734 [==============================] - 5s 7ms/step - loss: 9.2794\n",
      "Epoch 91/100\n",
      "734/734 [==============================] - 4s 6ms/step - loss: 9.2769\n",
      "Epoch 92/100\n",
      "734/734 [==============================] - 4s 6ms/step - loss: 9.2767\n",
      "Epoch 93/100\n",
      "734/734 [==============================] - 4s 6ms/step - loss: 9.2757\n",
      "Epoch 94/100\n",
      "734/734 [==============================] - 4s 6ms/step - loss: 9.2753\n",
      "Epoch 95/100\n",
      "734/734 [==============================] - 4s 6ms/step - loss: 9.2737\n",
      "Epoch 96/100\n",
      "734/734 [==============================] - 4s 6ms/step - loss: 9.2733\n",
      "Epoch 97/100\n",
      "734/734 [==============================] - 5s 6ms/step - loss: 9.2718\n",
      "Epoch 98/100\n",
      "734/734 [==============================] - 5s 7ms/step - loss: 9.2716\n",
      "Epoch 99/100\n",
      "734/734 [==============================] - 5s 6ms/step - loss: 9.2699\n",
      "Epoch 100/100\n",
      "734/734 [==============================] - 4s 6ms/step - loss: 9.2692\n"
     ]
    },
    {
     "data": {
      "text/plain": [
       "<keras.callbacks.History at 0x172a06430>"
      ]
     },
     "execution_count": 80,
     "metadata": {},
     "output_type": "execute_result"
    }
   ],
   "source": [
    "def negloglik(y_true, y_pred):\n",
    "    return -y_pred.log_prob(y_true)\n",
    "\n",
    "model.compile(optimizer=tf.optimizers.Adam(), loss=negloglik)\n",
    "model.fit(X_train, y_train, epochs=100, batch_size=32, verbose=1)\n"
   ]
  },
  {
   "cell_type": "code",
   "execution_count": 81,
   "metadata": {},
   "outputs": [
    {
     "data": {
      "text/plain": [
       "\" \\nfrom util.neuralprobabilistic import train_nn_model\\nfrom tensorflow import keras\\n\\n\\n# Define the neural network architecture\\nmodel_in = tf.keras.Input(shape=input_shape, dtype=tf.float32)\\nx=model_in\\n#x = tf.keras.layers.Dense(hidden_neurons, activation='relu')(model_in)\\nmu_logsigma = tf.keras.layers.Dense(2, activation='linear')(x)\\n# Define a lambda function for the distribution\\nlf = lambda t: tfp.distributions.Normal(loc=t[:, :1], scale=tf.math.exp(t[:, 1:]))\\n\\n# Create the output layer using DistributionLambda\\nmodel_out = tfp.layers.DistributionLambda(lf)(mu_logsigma)\\n\\n# Create the probabilistic neural network model\\nmodel = tf.keras.Model(model_in, model_out)\\n\\n\\nkeras.utils.plot_model(model, show_shapes=True,show_layer_names=True, rankdir='LR', show_layer_activations=True)\\nplt.show()\\n \""
      ]
     },
     "execution_count": 81,
     "metadata": {},
     "output_type": "execute_result"
    }
   ],
   "source": [
    "\"\"\" \n",
    "from util.neuralprobabilistic import train_nn_model\n",
    "from tensorflow import keras\n",
    "\n",
    "\n",
    "# Define the neural network architecture\n",
    "model_in = tf.keras.Input(shape=input_shape, dtype=tf.float32)\n",
    "x=model_in\n",
    "#x = tf.keras.layers.Dense(hidden_neurons, activation='relu')(model_in)\n",
    "mu_logsigma = tf.keras.layers.Dense(2, activation='linear')(x)\n",
    "# Define a lambda function for the distribution\n",
    "lf = lambda t: tfp.distributions.Normal(loc=t[:, :1], scale=tf.math.exp(t[:, 1:]))\n",
    "\n",
    "# Create the output layer using DistributionLambda\n",
    "model_out = tfp.layers.DistributionLambda(lf)(mu_logsigma)\n",
    "\n",
    "# Create the probabilistic neural network model\n",
    "model = tf.keras.Model(model_in, model_out)\n",
    "\n",
    "\n",
    "keras.utils.plot_model(model, show_shapes=True,show_layer_names=True, rankdir='LR', show_layer_activations=True)\n",
    "plt.show()\n",
    " \"\"\""
   ]
  },
  {
   "cell_type": "code",
   "execution_count": 82,
   "metadata": {},
   "outputs": [
    {
     "data": {
      "text/plain": [
       "' def custom_loss(y_true, dist):\\n    # Extract mean and standard deviation from the distribution\\n    mean = dist.loc\\n    std = dist.scale\\n\\n    # Adjust the scale parameter as needed\\n    scaled_std = std * 0.1\\n\\n    # Calculate the negative log-likelihood\\n    negloglik = -tfp.distributions.Normal(mean, std).log_prob(y_true)\\n\\n    return tf.reduce_mean(negloglik)\\n\\n\\n# Compile the model with a suitable loss function\\nfrom tensorflow.keras.optimizers import Adam\\nfrom tensorflow.keras.callbacks import LearningRateScheduler\\n\\n# Custom Loss Function\\ndef custom_loss_function(y_true, dist):\\n    return -dist.log_prob(y_true)\\n\\n# Learning Rate Scheduler\\ndef scheduler(epoch, lr):\\n    if epoch < 10:\\n        return lr\\n    else:\\n        return lr * tf.math.exp(-0.1)\\n\\n# Compile the model with the custom loss function and optimizer\\nmodel.compile(optimizer=Adam(learning_rate=0.001), loss=custom_loss_function)\\n\\n# Learning rate scheduler callback\\ncallback = LearningRateScheduler(scheduler)\\n'"
      ]
     },
     "execution_count": 82,
     "metadata": {},
     "output_type": "execute_result"
    }
   ],
   "source": [
    "\"\"\" def custom_loss(y_true, dist):\n",
    "    # Extract mean and standard deviation from the distribution\n",
    "    mean = dist.loc\n",
    "    std = dist.scale\n",
    "\n",
    "    # Adjust the scale parameter as needed\n",
    "    scaled_std = std * 0.1\n",
    "\n",
    "    # Calculate the negative log-likelihood\n",
    "    negloglik = -tfp.distributions.Normal(mean, std).log_prob(y_true)\n",
    "\n",
    "    return tf.reduce_mean(negloglik)\n",
    "\n",
    "\n",
    "# Compile the model with a suitable loss function\n",
    "from tensorflow.keras.optimizers import Adam\n",
    "from tensorflow.keras.callbacks import LearningRateScheduler\n",
    "\n",
    "# Custom Loss Function\n",
    "def custom_loss_function(y_true, dist):\n",
    "    return -dist.log_prob(y_true)\n",
    "\n",
    "# Learning Rate Scheduler\n",
    "def scheduler(epoch, lr):\n",
    "    if epoch < 10:\n",
    "        return lr\n",
    "    else:\n",
    "        return lr * tf.math.exp(-0.1)\n",
    "\n",
    "# Compile the model with the custom loss function and optimizer\n",
    "model.compile(optimizer=Adam(learning_rate=0.001), loss=custom_loss_function)\n",
    "\n",
    "# Learning rate scheduler callback\n",
    "callback = LearningRateScheduler(scheduler)\n",
    "\"\"\" "
   ]
  },
  {
   "cell_type": "code",
   "execution_count": 83,
   "metadata": {},
   "outputs": [
    {
     "name": "stdout",
     "output_type": "stream",
     "text": [
      "<keras.engine.functional.Functional object at 0x172a126a0>\n",
      "<keras.callbacks.History object at 0x176cc2610>\n",
      "[0.13099554181098938, 0.10703859478235245, 0.09650672972202301, 0.09416446834802628, 0.0938032865524292, 0.09374179691076279, 0.09370365738868713, 0.09370510280132294, 0.09370630979537964, 0.09369474649429321]\n",
      "{'loss': [0.13099554181098938, 0.10703859478235245, 0.09650672972202301, 0.09416446834802628, 0.0938032865524292, 0.09374179691076279, 0.09370365738868713, 0.09370510280132294, 0.09370630979537964, 0.09369474649429321]}\n"
     ]
    }
   ],
   "source": [
    "print(model)\n",
    "print(history)\n",
    "\n",
    "train_loss = history.history['loss']\n",
    "#val_loss = history.history['val_loss']\n",
    "\n",
    "print(train_loss)\n",
    "print(history.history)"
   ]
  },
  {
   "cell_type": "code",
   "execution_count": null,
   "metadata": {},
   "outputs": [],
   "source": []
  },
  {
   "cell_type": "code",
   "execution_count": null,
   "metadata": {},
   "outputs": [],
   "source": []
  },
  {
   "cell_type": "code",
   "execution_count": 84,
   "metadata": {},
   "outputs": [
    {
     "data": {
      "image/png": "[encoded data removed]",
      "text/plain": [
       "<Figure size 640x480 with 1 Axes>"
      ]
     },
     "metadata": {},
     "output_type": "display_data"
    }
   ],
   "source": [
    "plt.plot(history.history['loss'], label='Training Loss')\n",
    "plt.title('Training Loss Over Epochs')\n",
    "plt.xlabel('Epochs')\n",
    "plt.ylabel('Loss')\n",
    "plt.legend()\n",
    "plt.show()\n"
   ]
  },
  {
   "cell_type": "code",
   "execution_count": 85,
   "metadata": {},
   "outputs": [
    {
     "name": "stdout",
     "output_type": "stream",
     "text": [
      "362/362 [==============================] - 1s 2ms/step\n"
     ]
    },
    {
     "data": {
      "image/png": "[encoded data removed]",
      "text/plain": [
       "<Figure size 640x480 with 1 Axes>"
      ]
     },
     "metadata": {},
     "output_type": "display_data"
    },
    {
     "name": "stdout",
     "output_type": "stream",
     "text": [
      "[[1.2775141e+08]\n",
      " [1.4065216e+08]\n",
      " [1.0645773e+08]\n",
      " ...\n",
      " [1.7440894e+08]\n",
      " [1.0111136e+08]\n",
      " [9.6137264e+07]]\n"
     ]
    }
   ],
   "source": [
    "predictions = model.predict(X_test)\n",
    "# Apply inverse transformation to bring predictions back to original scale\n",
    "predictions = predictions * std_train + mean_train\n",
    "\n",
    "# Plot predictions vs. targets\n",
    "plt.scatter(y_test, predictions)\n",
    "plt.xlabel('True Values')\n",
    "plt.ylabel('Predictions')\n",
    "plt.title('Predictions vs. True Values')\n",
    "plt.show()\n",
    "#util.plot_pred_scatter(y_test, ts_pred, figsize=figsize)\n",
    "print(predictions)"
   ]
  },
  {
   "cell_type": "code",
   "execution_count": 86,
   "metadata": {},
   "outputs": [
    {
     "data": {
      "text/html": [
       "<div>\n",
       "<style scoped>\n",
       "    .dataframe tbody tr th:only-of-type {\n",
       "        vertical-align: middle;\n",
       "    }\n",
       "\n",
       "    .dataframe tbody tr th {\n",
       "        vertical-align: top;\n",
       "    }\n",
       "\n",
       "    .dataframe thead th {\n",
       "        text-align: right;\n",
       "    }\n",
       "</style>\n",
       "<table border=\"1\" class=\"dataframe\">\n",
       "  <thead>\n",
       "    <tr style=\"text-align: right;\">\n",
       "      <th></th>\n",
       "      <th>predictions</th>\n",
       "      <th>true_values</th>\n",
       "    </tr>\n",
       "    <tr>\n",
       "      <th>time</th>\n",
       "      <th></th>\n",
       "      <th></th>\n",
       "    </tr>\n",
       "  </thead>\n",
       "  <tbody>\n",
       "    <tr>\n",
       "      <th>2017-04-28 19:00:00+00:00</th>\n",
       "      <td>127751408.0</td>\n",
       "      <td>31267.0</td>\n",
       "    </tr>\n",
       "    <tr>\n",
       "      <th>2018-02-14 21:00:00+00:00</th>\n",
       "      <td>140652160.0</td>\n",
       "      <td>34606.0</td>\n",
       "    </tr>\n",
       "    <tr>\n",
       "      <th>2016-04-09 04:00:00+00:00</th>\n",
       "      <td>106457728.0</td>\n",
       "      <td>22712.0</td>\n",
       "    </tr>\n",
       "    <tr>\n",
       "      <th>2017-09-23 08:00:00+00:00</th>\n",
       "      <td>163761744.0</td>\n",
       "      <td>28169.0</td>\n",
       "    </tr>\n",
       "    <tr>\n",
       "      <th>2016-02-04 11:00:00+00:00</th>\n",
       "      <td>188299136.0</td>\n",
       "      <td>29545.0</td>\n",
       "    </tr>\n",
       "    <tr>\n",
       "      <th>...</th>\n",
       "      <td>...</td>\n",
       "      <td>...</td>\n",
       "    </tr>\n",
       "    <tr>\n",
       "      <th>2017-10-20 08:00:00+00:00</th>\n",
       "      <td>122247792.0</td>\n",
       "      <td>31341.0</td>\n",
       "    </tr>\n",
       "    <tr>\n",
       "      <th>2018-09-27 00:00:00+00:00</th>\n",
       "      <td>108356480.0</td>\n",
       "      <td>24320.0</td>\n",
       "    </tr>\n",
       "    <tr>\n",
       "      <th>2016-01-18 19:00:00+00:00</th>\n",
       "      <td>174408944.0</td>\n",
       "      <td>37724.0</td>\n",
       "    </tr>\n",
       "    <tr>\n",
       "      <th>2018-01-30 02:00:00+00:00</th>\n",
       "      <td>101111360.0</td>\n",
       "      <td>24258.0</td>\n",
       "    </tr>\n",
       "    <tr>\n",
       "      <th>2017-07-07 22:00:00+00:00</th>\n",
       "      <td>96137264.0</td>\n",
       "      <td>27537.0</td>\n",
       "    </tr>\n",
       "  </tbody>\n",
       "</table>\n",
       "<p>11560 rows × 2 columns</p>\n",
       "</div>"
      ],
      "text/plain": [
       "                           predictions  true_values\n",
       "time                                               \n",
       "2017-04-28 19:00:00+00:00  127751408.0      31267.0\n",
       "2018-02-14 21:00:00+00:00  140652160.0      34606.0\n",
       "2016-04-09 04:00:00+00:00  106457728.0      22712.0\n",
       "2017-09-23 08:00:00+00:00  163761744.0      28169.0\n",
       "2016-02-04 11:00:00+00:00  188299136.0      29545.0\n",
       "...                                ...          ...\n",
       "2017-10-20 08:00:00+00:00  122247792.0      31341.0\n",
       "2018-09-27 00:00:00+00:00  108356480.0      24320.0\n",
       "2016-01-18 19:00:00+00:00  174408944.0      37724.0\n",
       "2018-01-30 02:00:00+00:00  101111360.0      24258.0\n",
       "2017-07-07 22:00:00+00:00   96137264.0      27537.0\n",
       "\n",
       "[11560 rows x 2 columns]"
      ]
     },
     "execution_count": 86,
     "metadata": {},
     "output_type": "execute_result"
    }
   ],
   "source": [
    "# Create a DataFrame with the index of X_test\n",
    "result_df = pd.DataFrame(index=y_test.index)\n",
    "\n",
    "# Add columns for predictions and true values\n",
    "result_df['predictions'] = predictions.flatten()  # Flatten the predictions array\n",
    "result_df['true_values'] = y_test.values #\n",
    "\n",
    "result_df"
   ]
  },
  {
   "cell_type": "code",
   "execution_count": 87,
   "metadata": {},
   "outputs": [
    {
     "data": {
      "image/png": "[encoded data removed]",
      "text/plain": [
       "<Figure size 640x480 with 1 Axes>"
      ]
     },
     "metadata": {},
     "output_type": "display_data"
    }
   ],
   "source": [
    "\n",
    "\n",
    "residuals = result_df[0:100]['predictions'] -result_df[0:100][\"true_values\"]\n",
    "plt.scatter(result_df[0:100][\"true_values\"], residuals)\n",
    "plt.axhline(y=0, color='r', linestyle='--')\n",
    "plt.xlabel('True Values')\n",
    "plt.ylabel('Residuals')\n",
    "plt.title('Residual Plot')\n",
    "plt.show()\n"
   ]
  }
 ],
 "metadata": {
  "kernelspec": {
   "display_name": "tensorflow",
   "language": "python",
   "name": "python3"
  },
  "language_info": {
   "codemirror_mode": {
    "name": "ipython",
    "version": 3
   },
   "file_extension": ".py",
   "mimetype": "text/x-python",
   "name": "python",
   "nbconvert_exporter": "python",
   "pygments_lexer": "ipython3",
   "version": "3.8.18"
  }
 },
 "nbformat": 4,
 "nbformat_minor": 2
}
